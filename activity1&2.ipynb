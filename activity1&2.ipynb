{
 "cells": [
  {
   "cell_type": "code",
   "execution_count": 1,
   "metadata": {},
   "outputs": [
    {
     "name": "stdout",
     "output_type": "stream",
     "text": [
      "6\n"
     ]
    }
   ],
   "source": [
    "#Activity 1\n",
    "num=input(\"Enter any Number: \");\n",
    "print(num);"
   ]
  },
  {
   "cell_type": "code",
   "execution_count": 2,
   "metadata": {},
   "outputs": [
    {
     "name": "stdout",
     "output_type": "stream",
     "text": [
      "This is a multi-line string. This is the first line.\n",
      "This is the 2nd line.\n",
      "This is the 3rd line.\n",
      "\n"
     ]
    }
   ],
   "source": [
    "#Activity 2\n",
    "string=\"\"\"This is a multi-line string. This is the first line.\n",
    "This is the 2nd line.\n",
    "This is the 3rd line.\n",
    "\"\"\"\n",
    "print(string);"
   ]
  },
  {
   "cell_type": "code",
   "execution_count": 2,
   "metadata": {},
   "outputs": [
    {
     "name": "stdout",
     "output_type": "stream",
     "text": [
      "54\n",
      "46\n",
      "200\n",
      "12.5\n",
      "2\n",
      "6250000\n",
      "12\n"
     ]
    }
   ],
   "source": [
    "#Activity 3,4,5,6\n",
    "x=50;\n",
    "y=4;\n",
    "sum=x+y;\n",
    "sub=x-y;\n",
    "mult=x*y;\n",
    "div=x/y;\n",
    "remain=x%y;\n",
    "power=x**y;\n",
    "wholeNum=x//y;\n",
    "print(sum);\n",
    "print(sub);\n",
    "print(mult);\n",
    "print(div);\n",
    "print(remain);\n",
    "print(power);\n",
    "print(wholeNum);\n"
   ]
  },
  {
   "cell_type": "code",
   "execution_count": 4,
   "metadata": {},
   "outputs": [
    {
     "name": "stdout",
     "output_type": "stream",
     "text": [
      "Nancy\n",
      "My lucky number is 7, What is yours?\n"
     ]
    }
   ],
   "source": [
    "#Activity 7\n",
    "str=\"Nancy\";\n",
    "print(str);\n",
    "s=\"My lucky number is %d, What is yours?\" %7\n",
    "print(s);"
   ]
  },
  {
   "cell_type": "code",
   "execution_count": 1,
   "metadata": {},
   "outputs": [
    {
     "name": "stdout",
     "output_type": "stream",
     "text": [
      "Hello usama\n",
      "Your job is student\n",
      "You said: 5\n"
     ]
    }
   ],
   "source": [
    "# activity 8\n",
    "name = input('What is your name? ') \n",
    "print('Hello ' + name)\n",
    "\n",
    "job = input('What is your job? ') \n",
    "print('Your job is ' + job)\n",
    "\n",
    "num = input('Give me a number? ') \n",
    "print('You said: ' + str(num))"
   ]
  },
  {
   "cell_type": "code",
   "execution_count": 2,
   "metadata": {},
   "outputs": [
    {
     "name": "stdout",
     "output_type": "stream",
     "text": [
      "number is even\n"
     ]
    }
   ],
   "source": [
    "# activity 9\n",
    "n = input(\"enter number\")\n",
    "if int(n)%2==0:\n",
    "    print(\"number is even\")"
   ]
  },
  {
   "cell_type": "code",
   "execution_count": 3,
   "metadata": {},
   "outputs": [
    {
     "name": "stdout",
     "output_type": "stream",
     "text": [
      "number is odd\n"
     ]
    }
   ],
   "source": [
    "# activity 10\n",
    "n = input(\"enter number\")\n",
    "if int(n)%2==0:\n",
    "    print(\"number is even\")\n",
    "else:\n",
    "    print(\"number is odd\")"
   ]
  },
  {
   "cell_type": "code",
   "execution_count": 7,
   "metadata": {},
   "outputs": [
    {
     "name": "stdout",
     "output_type": "stream",
     "text": [
      "sum =  55\n"
     ]
    }
   ],
   "source": [
    "# activity 11\n",
    "sum = 0\n",
    "i = 1\n",
    "while i<=10:\n",
    "    sum=sum+i\n",
    "    i = i+1\n",
    "print(\"sum = \",sum)"
   ]
  },
  {
   "cell_type": "code",
   "execution_count": 8,
   "metadata": {},
   "outputs": [
    {
     "name": "stdout",
     "output_type": "stream",
     "text": [
      "Sum is  31\n"
     ]
    }
   ],
   "source": [
    "# activity 12\n",
    "i = 0\n",
    "sum = 0\n",
    "while i<=4:\n",
    "    n = input(\"enter number: \")\n",
    "    n = int(n)\n",
    "    sum = sum + n \n",
    "    i = i+1\n",
    "print(\"Sum is \", sum)"
   ]
  },
  {
   "cell_type": "code",
   "execution_count": 9,
   "metadata": {},
   "outputs": [
    {
     "name": "stdout",
     "output_type": "stream",
     "text": [
      "enter 0 to exit!\n",
      "Sum is  20\n"
     ]
    }
   ],
   "source": [
    "# activity 13\n",
    "n = 1\n",
    "sum = 0\n",
    "print(\"enter 0 to exit!\")\n",
    "while n!=0:\n",
    "    n = input(\"enter number: \")\n",
    "    n = int(n)\n",
    "    sum = sum + n \n",
    "    \n",
    "print(\"Sum is \", sum)"
   ]
  },
  {
   "cell_type": "code",
   "execution_count": 10,
   "metadata": {},
   "outputs": [
    {
     "name": "stdout",
     "output_type": "stream",
     "text": [
      "Enter objects of list.....\n",
      "The Given List is \n",
      "['2', '5', '7', '8', '6']\n"
     ]
    }
   ],
   "source": [
    "                                                        #LAB_02\n",
    "#activity 1\n",
    "myList1 = []\n",
    "print(\"Enter objects of list.....\")\n",
    "for i in range(5):\n",
    "    val=input(\"enter a value: \")\n",
    "    myList1.append(val)\n",
    "print(\"The Given List is \")\n",
    "print(myList1)"
   ]
  },
  {
   "cell_type": "code",
   "execution_count": 11,
   "metadata": {},
   "outputs": [
    {
     "name": "stdout",
     "output_type": "stream",
     "text": [
      "Enter objects of list.....\n",
      "The Sum is  15\n"
     ]
    }
   ],
   "source": [
    "#activity 2\n",
    "myList1 = []\n",
    "print(\"Enter objects of list.....\")\n",
    "for i in range(5):\n",
    "    val=input(\"enter a value: \")\n",
    "    n = int(val)\n",
    "    myList1.append(n)\n",
    "sum = 0\n",
    "for i in range(5):\n",
    "    sum = sum + myList1[i]\n",
    "print(\"The Sum is \", sum)"
   ]
  },
  {
   "cell_type": "code",
   "execution_count": 12,
   "metadata": {},
   "outputs": [
    {
     "name": "stdout",
     "output_type": "stream",
     "text": [
      "Enter objects of list.....\n",
      "[1, 2, 3, 4, 5]\n"
     ]
    }
   ],
   "source": [
    "#activity 3\n",
    "myList1 = []\n",
    "print(\"Enter objects of list.....\")\n",
    "for i in range(5):\n",
    "    val=input(\"enter a value: \")\n",
    "    n = int(val)\n",
    "    myList1.append(n)\n",
    "myList1.sort()\n",
    "print(myList1)"
   ]
  },
  {
   "cell_type": "code",
   "execution_count": 13,
   "metadata": {},
   "outputs": [
    {
     "name": "stdout",
     "output_type": "stream",
     "text": [
      "Enter objects of first list.....\n",
      "Enter objects of second list.....\n",
      "[1, 2, 3, 4, 5, 6, 7, 8, 9, 10]\n"
     ]
    }
   ],
   "source": [
    "#activity 4\n",
    "myList1 = []\n",
    "print(\"Enter objects of first list.....\")\n",
    "for i in range(5):\n",
    "    val=input(\"enter a value: \")\n",
    "    n = int(val)\n",
    "    myList1.append(n)\n",
    "\n",
    "myList2 = []\n",
    "print(\"Enter objects of second list.....\")\n",
    "for i in range(5):\n",
    "    val=input(\"enter a value: \")\n",
    "    n = int(val)\n",
    "    myList2.append(n)\n",
    "    \n",
    "myList3 = myList1+myList2;\n",
    "print(myList3)"
   ]
  },
  {
   "cell_type": "code",
   "execution_count": 14,
   "metadata": {},
   "outputs": [
    {
     "name": "stdout",
     "output_type": "stream",
     "text": [
      "Enter objects of list.....\n",
      "[1, 2, 3, 4, 5]\n",
      "found\n"
     ]
    }
   ],
   "source": [
    "#activity 5\n",
    "myList = []\n",
    "print(\"Enter objects of list.....\")\n",
    "for i in range(5):\n",
    "    val=input(\"enter a value: \")\n",
    "    n = int(val)\n",
    "    myList.append(n)\n",
    "print(myList)\n",
    "s = input(\"enter a value to find in list: \")\n",
    "n = int(s)\n",
    "found = n in myList\n",
    "if found==True:\n",
    "    print(\"found\")\n",
    "else:\n",
    "    print(\"Not Found\")"
   ]
  },
  {
   "cell_type": "code",
   "execution_count": 15,
   "metadata": {},
   "outputs": [
    {
     "name": "stdout",
     "output_type": "stream",
     "text": [
      "hello arham\n",
      "hello ibrahim\n",
      "hello jack\n"
     ]
    }
   ],
   "source": [
    "#activity 6\n",
    "def say_hello(name):\n",
    "    print(\"hello\" ,name)\n",
    "say_hello(\"arham\")\n",
    "say_hello(\"ibrahim\")\n",
    "say_hello(\"jack\")"
   ]
  },
  {
   "cell_type": "code",
   "execution_count": 16,
   "metadata": {},
   "outputs": [
    {
     "data": {
      "text/plain": [
       "True"
      ]
     },
     "execution_count": 16,
     "metadata": {},
     "output_type": "execute_result"
    }
   ],
   "source": [
    "#activity 7\n",
    "def isPalindrome(word):\n",
    "    temp = word[::-1]\n",
    "    if word.capitalize()==temp.capitalize():\n",
    "        return True\n",
    "    else:\n",
    "        return False\n",
    "isPalindrome(\"aibohphobia\")"
   ]
  },
  {
   "cell_type": "code",
   "execution_count": 17,
   "metadata": {},
   "outputs": [
    {
     "name": "stdout",
     "output_type": "stream",
     "text": [
      "[[1, 1, 1], [5, 5, 5], [9, 9, 9]]\n"
     ]
    }
   ],
   "source": [
    "#activity 8\n",
    "a = [[1, 0, 0], [0, 1, 0], [0, 0, 1] ] \n",
    "b = [[1, 2, 3], [4, 5, 6], [7, 8, 9] ] \n",
    "\n",
    "c = []\n",
    "\n",
    "for i in range(3):\n",
    "    c.append([])\n",
    "    for j in range(3):\n",
    "        c[i].append(0)\n",
    "        for k in range(3):\n",
    "            c[i][j] += a[i][k] * b[i][k]\n",
    "print(c)"
   ]
  },
  {
   "cell_type": "code",
   "execution_count": 18,
   "metadata": {},
   "outputs": [
    {
     "name": "stdout",
     "output_type": "stream",
     "text": [
      "15.867444035869614\n"
     ]
    }
   ],
   "source": [
    "#activity 9\n",
    "def perimeter(listing):\n",
    "    leng=len(listing)\n",
    "    perimeter=0\n",
    "    for i in range(0, leng-1):\n",
    "        dist = (((listing[i][0]-listing[i+1][0])**2) +\n",
    "                ((listing[i][1]-listing[i+1][1])**2))**0.5\n",
    "        perimeter = perimeter + dist\n",
    "    perimeter = perimeter + (((listing[0][0]-listing[leng-1][0])**2)+\n",
    "                             ((listing[0][1]-listing[leng-1][1])**2))**0.5\n",
    "    return perimeter\n",
    "L = [(1,3),(2,7),(3,9),(-1,8)]\n",
    "print(perimeter(L))"
   ]
  },
  {
   "cell_type": "code",
   "execution_count": 19,
   "metadata": {},
   "outputs": [
    {
     "name": "stdout",
     "output_type": "stream",
     "text": [
      "Symmetric difference set 1 and 2: \n",
      "{0, 1, 2, 3, 6, 7, 8, 9}\n",
      "Symmetric difference set 2 and 1: \n",
      "{0, 1, 2, 3, 6, 7, 8, 9}\n",
      "Using built in function verification\n",
      "{0, 1, 2, 3, 6, 7, 8, 9}\n",
      "{0, 1, 2, 3, 6, 7, 8, 9}\n",
      "{0, 1, 2, 3, 6, 7, 8, 9}\n",
      "{0, 1, 2, 3, 6, 7, 8, 9}\n"
     ]
    }
   ],
   "source": [
    "#activity 10\n",
    "def symDiff(a,b):\n",
    "    e =set()\n",
    "    for i in a:\n",
    "        if i not in b:\n",
    "            e.add(i)\n",
    "    for i in b:\n",
    "        if i not in a:\n",
    "            e.add(i)\n",
    "    return e\n",
    "\n",
    "set1={0,1,2,3,4,5}\n",
    "set2={4,5,6,7,8,9}\n",
    "print(\"Symmetric difference set 1 and 2: \")\n",
    "print(symDiff(set1, set2))\n",
    "print(\"Symmetric difference set 2 and 1: \")\n",
    "print(symDiff(set1, set2))\n",
    "\n",
    "print(\"Using built in function verification\")\n",
    "print(set1.symmetric_difference(set2))\n",
    "print(set2.symmetric_difference(set1))\n",
    "print(set1^set2)\n",
    "print(set2^set1)"
   ]
  },
  {
   "cell_type": "code",
   "execution_count": 1,
   "metadata": {},
   "outputs": [
    {
     "name": "stdout",
     "output_type": "stream",
     "text": [
      "******************************\n",
      "*****************************\n",
      "****************************\n",
      "***************************\n",
      "**************************\n",
      "*************************\n",
      "************************\n",
      "***********************\n",
      "**********************\n",
      "*********************\n",
      "********************\n",
      "*******************\n",
      "******************\n",
      "*****************\n",
      "****************\n",
      "***************\n",
      "**************\n",
      "*************\n",
      "************\n",
      "***********\n",
      "**********\n",
      "*********\n",
      "********\n",
      "*******\n",
      "******\n",
      "*****\n",
      "****\n",
      "***\n",
      "**\n",
      "*\n"
     ]
    }
   ],
   "source": [
    "# Patterns\n",
    "#Question NO:4\n",
    "x = 30\n",
    "i = 0\n",
    "while i < x:\n",
    "    for j in range(x):\n",
    "        print(\"*\", end = '')\n",
    "    x = x-1\n",
    "    print()"
   ]
  },
  {
   "cell_type": "code",
   "execution_count": 2,
   "metadata": {},
   "outputs": [
    {
     "name": "stdout",
     "output_type": "stream",
     "text": [
      "               *               \n",
      "              * *              \n",
      "             *   *             \n",
      "            *     *            \n",
      "           *       *           \n",
      "          *         *          \n",
      "         *           *         \n",
      "        *             *        \n",
      "       *               *       \n",
      "      *                 *      \n",
      "     *                   *     \n",
      "    *                     *    \n",
      "   *                       *   \n",
      "  *                         *  \n",
      " *                           * \n",
      "*******************************\n",
      " *                           *\n",
      "  *                         * \n",
      "   *                       *  \n",
      "    *                     *   \n",
      "     *                   *    \n",
      "      *                 *     \n",
      "       *               *      \n",
      "        *             *       \n",
      "         *           *        \n",
      "          *         *         \n",
      "           *       *          \n",
      "            *     *           \n",
      "             *   *            \n",
      "              * *             \n",
      "               *              \n"
     ]
    }
   ],
   "source": [
    "#Question number 9\n",
    "\n",
    "\n",
    "x = 30\n",
    "flag = True\n",
    "for i in range(x+1):\n",
    "    \n",
    "    if flag:\n",
    "        for j in range(x+1):\n",
    "            if i == (x/2):\n",
    "                print(\"*\", end = '')\n",
    "                if i == j:\n",
    "                    flag = False\n",
    "\n",
    "            elif j == ((x/2)+(i)) or j == ((x/2)-(i)):\n",
    "                print(\"*\", end = '')\n",
    "            \n",
    "            else:\n",
    "                print(\" \", end = '')\n",
    "    else:\n",
    "        for k in range(x):\n",
    "            \n",
    "            if k == ((x/2)+((i-x))) or k == ((x/2)-((i-x))):\n",
    "                print(\"*\", end = '')\n",
    "            \n",
    "            else:\n",
    "                print(\" \", end = '')  \n",
    "\n",
    "    print()"
   ]
  },
  {
   "cell_type": "code",
   "execution_count": 3,
   "metadata": {},
   "outputs": [
    {
     "name": "stdout",
     "output_type": "stream",
     "text": [
      "\n",
      "*\n",
      "**\n",
      "* *\n",
      "*  *\n",
      "*   *\n",
      "*    *\n",
      "*     *\n",
      "*      *\n",
      "*       *\n",
      "*        *\n",
      "*         *\n",
      "*          *\n",
      "*           *\n",
      "*            *\n",
      "*             *\n",
      "*              *\n",
      "*               *\n",
      "*                *\n",
      "*                 *\n",
      "*                  *\n",
      "*                   *\n",
      "*                    *\n",
      "*                     *\n",
      "*                      *\n",
      "*                       *\n",
      "*                        *\n",
      "*                         *\n",
      "*                          *\n",
      "*****************************\n",
      "*                          *\n",
      "*                         *\n",
      "*                        *\n",
      "*                       *\n",
      "*                      *\n",
      "*                     *\n",
      "*                    *\n",
      "*                   *\n",
      "*                  *\n",
      "*                 *\n",
      "*                *\n",
      "*               *\n",
      "*              *\n",
      "*             *\n",
      "*            *\n",
      "*           *\n",
      "*          *\n",
      "*         *\n",
      "*        *\n",
      "*       *\n",
      "*      *\n",
      "*     *\n",
      "*    *\n",
      "*   *\n",
      "*  *\n",
      "* *\n",
      "**\n",
      "*\n",
      "\n",
      "\n"
     ]
    }
   ],
   "source": [
    "#Question 13\n",
    "\n",
    "x = 30\n",
    "for i in range(x):\n",
    "    j = 0\n",
    "    while j < i:\n",
    "        if i == x-1:\n",
    "            print(\"*\", end = '')\n",
    "        elif j == 0 or j == i-1:\n",
    "            print(\"*\", end = '')\n",
    "        else:\n",
    "            print(\" \", end = '')\n",
    "        j = j+1\n",
    " \n",
    "    print()\n",
    "\n",
    "j = x\n",
    "while j > 0:\n",
    "    for k in range(j-2):\n",
    "        if k==0 or k == j-3:                        \n",
    "            print(\"*\", end = '')\n",
    "        else:\n",
    "            print(\" \", end = '')\n",
    "    j = j-1\n",
    "    print()"
   ]
  },
  {
   "cell_type": "code",
   "execution_count": 4,
   "metadata": {},
   "outputs": [
    {
     "name": "stdout",
     "output_type": "stream",
     "text": [
      "                              \n",
      "                              \n",
      "                             *\n",
      "                            **\n",
      "                           ***\n",
      "                          ****\n",
      "                         *****\n",
      "                        ******\n",
      "                       *******\n",
      "                      ********\n",
      "                     *********\n",
      "                    **********\n",
      "                   ***********\n",
      "                  ************\n",
      "                 *************\n",
      "                **************\n",
      "               ***************\n",
      "              ****************\n",
      "             *****************\n",
      "            ******************\n",
      "           *******************\n",
      "          ********************\n",
      "         *********************\n",
      "        **********************\n",
      "       ***********************\n",
      "      ************************\n",
      "     *************************\n",
      "    **************************\n",
      "   ***************************\n",
      "  ****************************\n",
      " *****************************\n",
      "  ****************************\n",
      "   ***************************\n",
      "    **************************\n",
      "     *************************\n",
      "      ************************\n",
      "       ***********************\n",
      "        **********************\n",
      "         *********************\n",
      "          ********************\n",
      "           *******************\n",
      "            ******************\n",
      "             *****************\n",
      "              ****************\n",
      "               ***************\n",
      "                **************\n",
      "                 *************\n",
      "                  ************\n",
      "                   ***********\n",
      "                    **********\n",
      "                     *********\n",
      "                      ********\n",
      "                       *******\n",
      "                        ******\n",
      "                         *****\n",
      "                          ****\n",
      "                           ***\n",
      "                            **\n",
      "                             *\n",
      "                              \n"
     ]
    }
   ],
   "source": [
    "#Question 24\n",
    "\n",
    "x = 30\n",
    "for i in range (x):\n",
    "    for j in range(x):\n",
    "        if x-j < i:\n",
    "            print(\"*\", end = '')\n",
    "        else:\n",
    "            print(\" \", end = '')\n",
    "    print()\n",
    "for i in range (x):\n",
    "    for j in range(x):\n",
    "        if j > i:\n",
    "            print(\"*\", end = '')\n",
    "        else:\n",
    "            print(\" \", end = '')\n",
    "    print()"
   ]
  }
 ],
 "metadata": {
  "kernelspec": {
   "display_name": "Python 3",
   "language": "python",
   "name": "python3"
  },
  "language_info": {
   "codemirror_mode": {
    "name": "ipython",
    "version": 3
   },
   "file_extension": ".py",
   "mimetype": "text/x-python",
   "name": "python",
   "nbconvert_exporter": "python",
   "pygments_lexer": "ipython3",
   "version": "3.11.2"
  },
  "orig_nbformat": 4,
  "vscode": {
   "interpreter": {
    "hash": "c261aea317cc0286b3b3261fbba9abdec21eaa57589985bb7a274bf54d6cc0a7"
   }
  }
 },
 "nbformat": 4,
 "nbformat_minor": 2
}
