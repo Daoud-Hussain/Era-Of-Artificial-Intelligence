{
 "cells": [
  {
   "cell_type": "code",
   "execution_count": 57,
   "id": "a3fda0d9",
   "metadata": {},
   "outputs": [
    {
     "ename": "NameError",
     "evalue": "name 'BFS' is not defined",
     "output_type": "error",
     "traceback": [
      "\u001b[1;31m---------------------------------------------------------------------------\u001b[0m",
      "\u001b[1;31mNameError\u001b[0m                                 Traceback (most recent call last)",
      "Cell \u001b[1;32mIn[57], line 41\u001b[0m\n\u001b[0;32m     38\u001b[0m                         \u001b[38;5;28;01mreturn\u001b[39;00m actionSequence(graph,initialState,goalState)\n\u001b[0;32m     39\u001b[0m                     frontier\u001b[38;5;241m.\u001b[39mappend(child)\n\u001b[1;32m---> 41\u001b[0m solution\u001b[38;5;241m=\u001b[39m\u001b[43mBFS\u001b[49m()\n\u001b[0;32m     42\u001b[0m \u001b[38;5;28mprint\u001b[39m(solution)\n",
      "\u001b[1;31mNameError\u001b[0m: name 'BFS' is not defined"
     ]
    }
   ],
   "source": [
    "class Node:\n",
    "    #state = state\n",
    "    def __init__(self, state, parent, actions, totalCost):\n",
    "        self.state=state\n",
    "        self.parent=parent\n",
    "        self.actions=actions\n",
    "        self.totalCost=totalCost\n",
    "    graph = {\n",
    "        'A': Node(\"A\",None, [\"B\",\"C\",\"E\"],None),\n",
    "        'B': Node('B',None, ['A','D','E'],None),\n",
    "        'C': Node('C',None, ['A','F','G'],None),\n",
    "        'D': Node('D',None, ['B','E'],None),\n",
    "        'E': Node('E',None, ['A','B','D'],None),\n",
    "        'F': Node('F',None, ['C'],None)}\n",
    "    def actionSequence(graph,initialState,goalState):\n",
    "        solution=[goalState]\n",
    "        currentParent=graph[goalState].parent\n",
    "        while currentParent!=None:\n",
    "            solution.append(currentParent)\n",
    "            currentParent=graph[currentParent].parent\n",
    "        solution.reverse()\n",
    "        return solution\n",
    "    def BFS():\n",
    "        initialState='D'\n",
    "        goalState='F'\n",
    " \n",
    "        frontier=[initialState]\n",
    "        explored=[]\n",
    "\n",
    "        while len(frontier)!=0:\n",
    "            currentNode=frontier.pop(0)\n",
    "            explored.append(currentNode)\n",
    "            for child in graph[currentNode].actions:\n",
    "                if child not in frontier and child not in explored:\n",
    "                    graph[child].parent=currentNode\n",
    "                    if graph[child].state==goalState:\n",
    "                        return actionSequence(graph,initialState,goalState)\n",
    "                    frontier.append(child)\n",
    "                    \n",
    "solution=BFS()\n",
    "print(solution)\n",
    "\n",
    "\n",
    "            \n",
    "\n",
    "  "
   ]
  },
  {
   "cell_type": "code",
   "execution_count": 66,
   "id": "a212f4a0",
   "metadata": {},
   "outputs": [
    {
     "name": "stdout",
     "output_type": "stream",
     "text": [
      "['A', 'C', 'F']\n"
     ]
    }
   ],
   "source": [
    "from queue import Queue\n",
    "graph = {\n",
    "    'A': ['B','E', 'C'],\n",
    "    'B': ['A', 'E', 'D'],\n",
    "    'C': ['A', 'F', 'G'],\n",
    "    'D': ['B'],\n",
    "    'E': ['A', 'B'],\n",
    "    'F': ['C'],\n",
    "    'G': ['C'],\n",
    "}\n",
    "\n",
    "visited = {}\n",
    "parents = {}\n",
    "distance = {}\n",
    "bfs_output = []\n",
    "\n",
    "def BFS(source):\n",
    "    global graph,visited, parents, distance, bfs_output\n",
    "    for node in graph.keys():\n",
    "        visited[node]= False\n",
    "        parents[node]= None\n",
    "        distance[node]= -1\n",
    "    \n",
    "    q = Queue()\n",
    "    visited[source] = True\n",
    "    parents[source] = None\n",
    "    distance[source] = 0\n",
    "    q.put(source)\n",
    "    \n",
    "    while not q.empty():\n",
    "        node = q.get()\n",
    "        bfs_output.append(node)\n",
    "        for child in graph[node]:\n",
    "            if not visited[child]:\n",
    "                visited[child] = True\n",
    "                parents[child] = node\n",
    "                distance[child] = distance[node] + 1\n",
    "                q.put(child)\n",
    "                \n",
    "\n",
    "    \n",
    "BFS('A')\n",
    "\n",
    "destination = 'F'\n",
    "location = destination\n",
    "path = []\n",
    "\n",
    "while location != None:\n",
    "    path.append(location)\n",
    "    location = parents[location]\n",
    "\n",
    "path.reverse()\n",
    "print(path)"
   ]
  },
  {
   "cell_type": "code",
   "execution_count": null,
   "id": "5af22ed7",
   "metadata": {},
   "outputs": [],
   "source": []
  },
  {
   "cell_type": "code",
   "execution_count": null,
   "id": "40ff1238",
   "metadata": {},
   "outputs": [],
   "source": []
  },
  {
   "cell_type": "code",
   "execution_count": null,
   "id": "cc0fa392",
   "metadata": {},
   "outputs": [],
   "source": []
  }
 ],
 "metadata": {
  "kernelspec": {
   "display_name": "Python 3 (ipykernel)",
   "language": "python",
   "name": "python3"
  },
  "language_info": {
   "codemirror_mode": {
    "name": "ipython",
    "version": 3
   },
   "file_extension": ".py",
   "mimetype": "text/x-python",
   "name": "python",
   "nbconvert_exporter": "python",
   "pygments_lexer": "ipython3",
   "version": "3.10.6"
  }
 },
 "nbformat": 4,
 "nbformat_minor": 5
}
