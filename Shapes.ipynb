{
 "cells": [
  {
   "cell_type": "code",
   "execution_count": 1,
   "metadata": {},
   "outputs": [
    {
     "name": "stdout",
     "output_type": "stream",
     "text": [
      "* * * * * \n",
      "* * * * \n",
      "* * * \n",
      "* * \n",
      "* \n"
     ]
    }
   ],
   "source": [
    "for i in range(5,0,-1):\n",
    "    for j in range (i):\n",
    "        print(\"*\",end=\" \")\n",
    "    print()"
   ]
  },
  {
   "cell_type": "code",
   "execution_count": 2,
   "metadata": {},
   "outputs": [
    {
     "name": "stdout",
     "output_type": "stream",
     "text": [
      "          * \n",
      "        * * \n",
      "      * * * \n",
      "    * * * * \n",
      "  * * * * * \n",
      "* * * * * * \n",
      "  * * * * * \n",
      "    * * * * \n",
      "      * * * \n",
      "        * * \n",
      "          * \n"
     ]
    }
   ],
   "source": [
    "for i in range(5):\n",
    "    for j in range(i,5):\n",
    "        print(' ', end=' ')\n",
    "    for j in range(i+1):\n",
    "        print('*', end=' ')\n",
    "    print()\n",
    "for i in range(5,-1,-1):\n",
    "    for j in range(i,5):\n",
    "        print(' ', end=' ')\n",
    "    for j in range(i+1):\n",
    "        print('*', end=' ')\n",
    "    print()\n",
    "        \n",
    "        "
   ]
  },
  {
   "cell_type": "code",
   "execution_count": 3,
   "metadata": {},
   "outputs": [
    {
     "name": "stdout",
     "output_type": "stream",
     "text": [
      "*********\n",
      " *     *\n",
      "  *   *\n",
      "   * *\n",
      "    *\n"
     ]
    }
   ],
   "source": [
    "for i in range(5, 0, -1):\n",
    "   for j in range(5 - i):\n",
    "      print(' ', end='')  \n",
    "   for j in range(2 * i - 1):\n",
    "      if i == 5 or j == 2 * i - 2 or j == 0:\n",
    "         print('*', end='')  \n",
    "      else:\n",
    "         print(' ', end='') \n",
    "   print() "
   ]
  },
  {
   "cell_type": "code",
   "execution_count": 4,
   "metadata": {},
   "outputs": [
    {
     "name": "stdout",
     "output_type": "stream",
     "text": [
      "    *\n",
      "   * *\n",
      "  *   *\n",
      " *     *\n",
      "*********\n",
      " *     *\n",
      "  *   *\n",
      "   * *\n",
      "    *\n"
     ]
    }
   ],
   "source": [
    "for i in range(5):\n",
    "   for j in range(4 - i):\n",
    "      print(' ', end='')  \n",
    "   for j in range(2 * i + 1):\n",
    "      if j == 0 or j == 2 * i or i == 5- 1:\n",
    "         print('*', end='')\n",
    "      else:\n",
    "         print(' ', end='')\n",
    "   print()  \n",
    "\n",
    "for i in range(4, 0, -1):\n",
    "   for j in range(5 - i):\n",
    "      print(' ', end='')  \n",
    "   for j in range(2 * i - 1):\n",
    "      if j == 2 * i - 2 or j == 0:\n",
    "         print('*', end='')  \n",
    "      else:\n",
    "         print(' ', end='')  \n",
    "   print()  "
   ]
  },
  {
   "cell_type": "code",
   "execution_count": 5,
   "metadata": {},
   "outputs": [
    {
     "name": "stdout",
     "output_type": "stream",
     "text": [
      "*      \n",
      "**     \n",
      "* *    \n",
      "*  *   \n",
      "*   *  \n",
      "*    * \n",
      "*******\n",
      "*    * \n",
      "*   *  \n",
      "*  *   \n",
      "* *    \n",
      "**     \n",
      "*      \n"
     ]
    }
   ],
   "source": [
    "for i in range(7):\n",
    "    for j in range(7):\n",
    "        if ((i==j)or(j==0)or(i==6)):\n",
    "            print(\"*\", end=\"\")\n",
    "        else:\n",
    "            print(\" \",end=\"\")\n",
    "    print()\n",
    "for i in range(6,0,-1):\n",
    "    for j in range(7):\n",
    "        if ((j==i-1)or(j==0)):\n",
    "            print(\"*\", end=\"\")\n",
    "        else:\n",
    "            print(\" \",end=\"\")\n",
    "    print()"
   ]
  }
 ],
 "metadata": {
  "kernelspec": {
   "display_name": "Python 3",
   "language": "python",
   "name": "python3"
  },
  "language_info": {
   "codemirror_mode": {
    "name": "ipython",
    "version": 3
   },
   "file_extension": ".py",
   "mimetype": "text/x-python",
   "name": "python",
   "nbconvert_exporter": "python",
   "pygments_lexer": "ipython3",
   "version": "3.11.2"
  },
  "orig_nbformat": 4
 },
 "nbformat": 4,
 "nbformat_minor": 2
}
