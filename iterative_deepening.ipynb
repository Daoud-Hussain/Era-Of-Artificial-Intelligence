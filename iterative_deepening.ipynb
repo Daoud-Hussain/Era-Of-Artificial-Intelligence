
{
 "cells": [
  {
   "cell_type": "code",
   "execution_count": 10,
   "metadata": {},
   "outputs": [],
   "source": [
    "def iterative_deepening_dfs_rec(node, target, current_depth, max_depth):\n",
    "    print(\"Visiting Node \" + str(node[\"value\"]))\n",
    "    if node[\"value\"] == target:\n",
    "        print(\"Found the node we're looking for!\")\n",
    "        return node, True\n",
    "    if current_depth == max_depth:\n",
    "        print(\"Current maximum depth reached, returning...\")\n",
    "        if len(node[\"children\"]) > 0:\n",
    "            return None, False\n",
    "        else:\n",
    "            return None, True\n",
    "    bottom_reached = True\n",
    "    for i in range(len(node[\"children\"])):\n",
    "        result, bottom_reached_rec = iterative_deepening_dfs_rec(node[\"children\"][i], target, current_depth + 1, max_depth)\n",
    "        if result is not None:\n",
    "            return result, True\n",
    "        bottom_reached = bottom_reached and bottom_reached_rec\n",
    "    return None, bottom_reached"
   ]
  },
  {
   "cell_type": "code",
   "execution_count": 11,
   "metadata": {},
   "outputs": [],
   "source": [
    "def iterative_deepening_dfs(start, target):\n",
    "    depth = 1\n",
    "    bottom_reached = False\n",
    "    while not bottom_reached:\n",
    "        result, bottom_reached = iterative_deepening_dfs_rec(start, target, 0, depth)\n",
    "        if result is not None:\n",
    "            return result\n",
    "        depth *= 2\n",
    "        print(\"Increasing depth to \" + str(depth))\n",
    "    return None"
   ]
  },
  {
   "cell_type": "code",
   "execution_count": 12,
   "metadata": {},
   "outputs": [],
   "source": [
    "start = {\n",
    "    \"value\": 0, \"children\": [\n",
    "        {\"value\": 1, \"children\": [\n",
    "            {\"value\": 3, \"children\": []},\n",
    "            {\"value\": 4, \"children\": []}\n",
    "        ]}, {\n",
    "            \"value\": 2, \"children\": [\n",
    "                {\"value\": 5, \"children\": []},\n",
    "                {\"value\": 6, \"children\": []}\n",
    "            ]\n",
    "        }\n",
    "    ]\n",
    "}"
   ]
  },
  {
   "cell_type": "code",
   "execution_count": 15,
   "metadata": {},
   "outputs": [
    {
     "name": "stdout",
     "output_type": "stream",
     "text": [
      "Visiting Node 0\n",
      "Visiting Node 1\n",
      "Current maximum depth reached, returning...\n",
      "Visiting Node 2\n",
      "Current maximum depth reached, returning...\n",
      "Increasing depth to 2\n",
      "Visiting Node 0\n",
      "Visiting Node 1\n",
      "Visiting Node 3\n",
      "Current maximum depth reached, returning...\n",
      "Visiting Node 4\n",
      "Current maximum depth reached, returning...\n",
      "Visiting Node 2\n",
      "Visiting Node 5\n",
      "Current maximum depth reached, returning...\n",
      "Visiting Node 6\n",
      "Found the node we're looking for!\n",
      "6\n"
     ]
    }
   ],
   "source": [
    "print(iterative_deepening_dfs(start, 6)[\"value\"])"
   ]
  },
  {
   "cell_type": "code",
   "execution_count": 18,
   "metadata": {},
   "outputs": [],
   "source": [
    "# citiesGraph = {\n",
    "#     \"value\": \"Neamt\", \"children\": [\n",
    "#         {\"value\": \"Iasi\", \"children\": [\n",
    "#             {\"value\": \"Vaslui\", \"children\": [\n",
    "#                 {\"value\": \"Urziceni\", \"children\": [\n",
    "#                     {\"value\": \"Hirsova\", \"children\": [\n",
    "#                         {\"value\": \"Eforie\", \"children\": []}, \n",
    "#                     {\"value\": \"Bucharest\", \"children\": [\n",
    "#                         {\"value\": \"Giurgiu\", \"children\": []},\n",
    "#                         {\"value\": \"Pitesti\", \"children\": [\n",
    "#                             {\"value\": \"Rimnicu Vilcea\", \"children\": []},\n",
    "#                             {\"value\": \"Craiova\", \"children\": [\n",
    "#                                 {\"value\": \"Drobeta\", \"children\": [\n",
    "#                                     {\"value\": \"Mehadia\", \"children\": [\n",
    "#                                         {\"value\": \"Lugoj\", \"children\": [\n",
    "#                                             {\"value\": \"Timisoara\", \"children\": [\n",
    "#                                                 {\"value\": \"Arad\", \"children\": [\n",
    "#                                                     {\"value\": \"Zerind\", \"children\": [\n",
    "#                                                         {\"value\": \"Oradea\", \"children\": []}\n",
    "#                                                     ]},\n",
    "#                                                     {\"value\": \"Sibiu\", \"children\": []}\n",
    "#                                                 ]}\n",
    "#                                             ]}\n",
    "#                                         ]}\n",
    "#                                     ]}\n",
    "#                                 ]}\n",
    "#                             ]},\n",
    "#                         ]},\n",
    "#                         {\"value\": \"Fagaras\", \"children\": []}\n",
    "#                     ]}\n",
    "#                 ]}\n",
    "#             ]}\n",
    "#         ]}\n",
    "#     ]}\n",
    "# ]}\n",
    "\n",
    "\n",
    "\n",
    "citiesGraph = {\n",
    "    \"value\": \"Arad\", \"children\": [\n",
    "        {\"value\": \"Timisoara\", \"children\": [\n",
    "            {\"value\": \"Lugoj\", \"children\": [\n",
    "                {\"value\": \"Mehadia\", \"children\": [\n",
    "                    {\"value\": \"Drobeta\", \"children\": []}\n",
    "                ]}\n",
    "            ]}\n",
    "        ]},\n",
    "        {\"value\": \"Zerind\", \"children\": [\n",
    "            {\"value\": \"Oradea\", \"children\": []}\n",
    "        ]},\n",
    "        {\"value\": \"Sibiu\", \"children\": [\n",
    "            {\"value\": \"Rimnicu Vilcea\", \"children\": [\n",
    "                {\"value\": \"Pitesti\", \"children\": []},\n",
    "                {\"value\": \"Craiova\", \"children\": []},\n",
    "            ]},\n",
    "            {\"value\": \"Fagaras\", \"children\": [\n",
    "                {\"value\": \"Bucharest\", \"children\": [\n",
    "                    {\"value\": \"Urziceni\", \"children\": [\n",
    "                        {\"value\": \"Iasi\", \"children\": [\n",
    "                            {\"value\": \"Neamt\", \"children\": []},\n",
    "                            {\"value\": \"Vaslui\", \"children\": []},\n",
    "                        ]},\n",
    "                        {\"value\": \"Hirsova\", \"children\": [\n",
    "                            {\"value\": \"Eforie\", \"children\": []}\n",
    "                        ]}\n",
    "                    ]},\n",
    "                    {\"value\": \"Giurgiu\", \"children\": []}\n",
    "                ]},\n",
    "            ]}\n",
    "        ]}\n",
    "]}"
   ]
  },
  {
   "cell_type": "code",
   "execution_count": 19,
   "metadata": {},
   "outputs": [
    {
     "name": "stdout",
     "output_type": "stream",
     "text": [
      "Visiting Node Arad\n",
      "Visiting Node Timisoara\n",
      "Current maximum depth reached, returning...\n",
      "Visiting Node Zerind\n",
      "Current maximum depth reached, returning...\n",
      "Visiting Node Sibiu\n",
      "Current maximum depth reached, returning...\n",
      "Increasing depth to 2\n",
      "Visiting Node Arad\n",
      "Visiting Node Timisoara\n",
      "Visiting Node Lugoj\n",
      "Current maximum depth reached, returning...\n",
      "Visiting Node Zerind\n",
      "Visiting Node Oradea\n",
      "Current maximum depth reached, returning...\n",
      "Visiting Node Sibiu\n",
      "Visiting Node Rimnicu Vilcea\n",
      "Current maximum depth reached, returning...\n",
      "Visiting Node Fagaras\n",
      "Current maximum depth reached, returning...\n",
      "Increasing depth to 4\n",
      "Visiting Node Arad\n",
      "Visiting Node Timisoara\n",
      "Visiting Node Lugoj\n",
      "Visiting Node Mehadia\n",
      "Visiting Node Drobeta\n",
      "Current maximum depth reached, returning...\n",
      "Visiting Node Zerind\n",
      "Visiting Node Oradea\n",
      "Visiting Node Sibiu\n",
      "Visiting Node Rimnicu Vilcea\n",
      "Visiting Node Pitesti\n",
      "Visiting Node Craiova\n",
      "Visiting Node Fagaras\n",
      "Visiting Node Bucharest\n",
      "Found the node we're looking for!\n",
      "Bucharest\n"
     ]
    }
   ],
   "source": [
    "print(iterative_deepening_dfs(citiesGraph, \"Bucharest\")[\"value\"])"
   ]
  },
  {
   "cell_type": "code",
   "execution_count": null,
   "metadata": {},
   "outputs": [],
   "source": []
  }
 ],
 "metadata": {
  "kernelspec": {
   "display_name": "Python 3",
   "language": "python",
   "name": "python3"
  },
  "language_info": {
   "codemirror_mode": {
    "name": "ipython",
    "version": 3
   },
   "file_extension": ".py",
   "mimetype": "text/x-python",
   "name": "python",
   "nbconvert_exporter": "python",
   "pygments_lexer": "ipython3",
   "version": "3.6.5"
  }
 },
 "nbformat": 4,
 "nbformat_minor": 2
}
