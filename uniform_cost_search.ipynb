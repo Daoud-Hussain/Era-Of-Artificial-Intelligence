{
 "cells": [
  {
   "attachments": {},
   "cell_type": "markdown",
   "metadata": {},
   "source": [
    "## UCS"
   ]
  },
  {
   "cell_type": "code",
   "execution_count": 1,
   "metadata": {},
   "outputs": [],
   "source": [
    "class Node:\n",
    "    def __init__(self, state, parent, actions, totalCost):\n",
    "        self.state = state\n",
    "        self.parent = parent\n",
    "        self.actions = actions\n",
    "        self.totalCost = totalCost"
   ]
  },
  {
   "cell_type": "code",
   "execution_count": 2,
   "metadata": {},
   "outputs": [],
   "source": [
    "import math\n",
    "def findMin(frontier):\n",
    "    minVal = math.inf\n",
    "    node = \"\"\n",
    "    for i in frontier:\n",
    "        if minVal > frontier[i][1]:\n",
    "            minVal = frontier[i][1]\n",
    "            node = i\n",
    "    return node"
   ]
  },
  {
   "cell_type": "code",
   "execution_count": 3,
   "metadata": {},
   "outputs": [],
   "source": [
    "def actionSequence(graph, goalState):\n",
    "    solution = [goalState]\n",
    "    currentParent = graph[goalState].parent\n",
    "    while currentParent != None:\n",
    "        solution.append(currentParent)\n",
    "        currentParent = graph[currentParent].parent\n",
    "    solution.reverse()\n",
    "    return solution"
   ]
  },
  {
   "cell_type": "code",
   "execution_count": 4,
   "metadata": {},
   "outputs": [],
   "source": [
    "def UCS(graph, initialState, goalState):\n",
    "    frontier = dict()\n",
    "    frontier[initialState] = (None, 0)\n",
    "    explored = []\n",
    "    while len(frontier) != 0:\n",
    "        currentNode = findMin(frontier)\n",
    "        del frontier[currentNode]\n",
    "        explored.append(currentNode)\n",
    "        if graph[currentNode].state == goalState:\n",
    "            return actionSequence(graph, goalState)\n",
    "        for child in graph[currentNode].actions:\n",
    "            currentCost = child[1] + graph[currentNode].totalCost\n",
    "            if child[0] not in frontier and child[0] not in explored:\n",
    "                graph[child[0]].parent = currentNode\n",
    "                graph[child[0]].totalCost = currentCost\n",
    "                frontier[child[0]] = (currentNode, currentCost)\n",
    "            elif child[0] in frontier:\n",
    "                if frontier[child[0]][1] > currentCost:\n",
    "                    frontier[child[0]] = (currentNode, currentCost)\n",
    "                    graph[child[0]].parent = currentNode\n",
    "                    graph[child[0]].totalCost = currentCost\n",
    "                # redundant ccode lines\n",
    "                # else:\n",
    "                #     graph[child[0]].parent = frontier[child[0]][0]\n",
    "                #     graph[child[0]].totalCost = frontier[child[0]][1]\n",
    "                       "
   ]
  },
  {
   "cell_type": "code",
   "execution_count": 5,
   "metadata": {},
   "outputs": [
    {
     "name": "stdout",
     "output_type": "stream",
     "text": [
      "['C', 'F', 'E', 'B']\n"
     ]
    }
   ],
   "source": [
    "graph = {\n",
    "        \"A\": Node(\"A\", None, [(\"B\", 6), (\"C\", 9), (\"E\", 1)], 0),\n",
    "        \"B\": Node(\"B\", None, [(\"A\", 6), (\"D\", 3), (\"E\", 4)], 0),\n",
    "        \"C\": Node(\"C\", None, [(\"A\", 9), (\"F\", 2), (\"G\", 3)], 0),\n",
    "        \"D\": Node(\"D\", None, [(\"B\", 3), (\"E\", 5), (\"F\", 7)], 0),\n",
    "        \"E\": Node(\"E\", None, [(\"A\", 1), (\"B\", 4), (\"D\", 5), (\"F\", 6)], 0),\n",
    "        \"F\": Node(\"F\", None, [(\"C\", 2), (\"E\", 6), (\"D\", 7)], 0),\n",
    "        \"G\": Node(\"G\", None, [(\"C\", 3)], 0),\n",
    "}\n",
    "solution = UCS(graph, \"C\", \"B\")\n",
    "print(solution)"
   ]
  },
  {
   "attachments": {},
   "cell_type": "markdown",
   "metadata": {},
   "source": [
    "## Romania UCS"
   ]
  },
  {
   "cell_type": "code",
   "execution_count": 6,
   "metadata": {},
   "outputs": [
    {
     "name": "stdout",
     "output_type": "stream",
     "text": [
      "['Arad', 'Sibiu', 'Rimnicu Vilcea', 'Pitesti', 'Bucharest']\n"
     ]
    }
   ],
   "source": [
    "citiesGraph = {\n",
    "    \"Neamt\": Node(\"Neamt\", None, [(\"Iasi\", 87)], 0),\n",
    "    \"Iasi\": Node(\"Iasi\", None, [(\"Neamt\", 87), (\"Vaslui\", 92)], 0),\n",
    "    \"Vaslui\": Node(\"Vaslui\", None, [(\"Iasi\", 92), (\"Urziceni\", 142)], 0),\n",
    "    \"Urziceni\": Node(\"Urziceni\", None, [(\"Iasi\", 142), (\"Hirsova\", 98), (\"Bucharest\", 85)], 0),\n",
    "    \"Hirsova\": Node(\"Hirsova\", None, [(\"Urziceni\", 98), (\"Eforie\", 86)], 0),\n",
    "    \"Eforie\": Node(\"Eforie\", None, [(\"Hirsova\", 86)], 0),\n",
    "    \"Bucharest\": Node(\"Bucharest\", None, [(\"Urziceni\", 85), (\"Giurgiu\", 90), (\"Pitesti\", 101), (\"Fagaras\", 211)], 0),\n",
    "    \"Giurgiu\": Node(\"Giurgiu\", None, [(\"Bucharest\", 90)], 0),\n",
    "    \"Pitesti\": Node(\"Pitesti\", None, [(\"Bucharest\", 101), (\"Rimnicu Vilcea\", 97), (\"Craiova\", 138)], 0),\n",
    "    \"Craiova\": Node(\"Craiova\", None, [(\"Pitesti\", 138), (\"Rimnicu Vilcea\", 146), (\"Drobeta\", 120)], 0),\n",
    "    \"Drobeta\": Node(\"Drobeta\", None, [(\"Craiova\", 120), (\"Mehadia\", 75)], 0),\n",
    "    \"Mehadia\": Node(\"Drobeta\", None, [(\"Drobeta\", 75), (\"Lugoj\", 70)], 0),\n",
    "    \"Lugoj\": Node(\"Lugoj\", None, [(\"Mehadia\", 70), (\"Timisoara\", 111)], 0),\n",
    "    \"Timisoara\": Node(\"Timisoara\", None, [(\"Lugoj\",111), (\"Arad\", 118)], 0),\n",
    "    \"Arad\": Node(\"Arad\", None, [(\"Timisoara\", 118), (\"Zerind\", 75), (\"Sibiu\", 140)], 0),\n",
    "    \"Zerind\": Node(\"Zerind\", None, [(\"Arad\", 75), (\"Oradea\", 71)], 0),\n",
    "    \"Oradea\": Node(\"Oradea\", None, [(\"Zerind\", 71), (\"Sibiu\", 151)], 0),\n",
    "    \"Sibiu\": Node(\"Sibiu\", None, [(\"Arad\", 140), (\"Oradea\", 151), (\"Rimnicu Vilcea\", 80), (\"Fagaras\", 99)], 0),\n",
    "    \"Fagaras\": Node(\"Fagaras\", None, [(\"Sibiu\", 99), (\"Bucharest\", 211)], 0),\n",
    "    \"Rimnicu Vilcea\": Node(\"Rimnicu Vilcea\", None, [(\"Sibiu\", 80), (\"Pitesti\", 97), (\"Craiova\", 146)], 0)\n",
    "}\n",
    "solution = UCS(citiesGraph, \"Arad\", \"Bucharest\")\n",
    "print(solution)"
   ]
  }
 ],
 "metadata": {
  "kernelspec": {
   "display_name": "Python 3",
   "language": "python",
   "name": "python3"
  },
  "language_info": {
   "codemirror_mode": {
    "name": "ipython",
    "version": 3
   },
   "file_extension": ".py",
   "mimetype": "text/x-python",
   "name": "python",
   "nbconvert_exporter": "python",
   "pygments_lexer": "ipython3",
   "version": "3.11.2"
  },
  "orig_nbformat": 4
 },
 "nbformat": 4,
 "nbformat_minor": 2
}
